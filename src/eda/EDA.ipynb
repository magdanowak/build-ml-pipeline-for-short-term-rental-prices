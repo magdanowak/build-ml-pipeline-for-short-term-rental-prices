{
 "cells": [
  {
   "cell_type": "markdown",
   "id": "fe564831-45f2-4a0f-9b96-e888e1bfb366",
   "metadata": {},
   "source": [
    "# Exploratory Data Analysis\n",
    "\n",
    "This notebook focuses on exploration of our sample dataset. "
   ]
  },
  {
   "cell_type": "code",
   "execution_count": null,
   "id": "de0b7566",
   "metadata": {},
   "outputs": [],
   "source": [
    "import wandb\n",
    "import pandas as pd\n",
    "import pandas_profiling"
   ]
  },
  {
   "cell_type": "code",
   "execution_count": null,
   "id": "e10438d8",
   "metadata": {},
   "outputs": [],
   "source": [
    "run = wandb.init(project=\"nyc_airbnb\", group=\"eda\", save_code=True)"
   ]
  },
  {
   "cell_type": "markdown",
   "id": "8b06d273-129d-4af0-ae6c-4260405120bc",
   "metadata": {},
   "source": [
    "## Loading dataset"
   ]
  },
  {
   "cell_type": "code",
   "execution_count": null,
   "id": "d3ea330c",
   "metadata": {},
   "outputs": [],
   "source": [
    "local_path = wandb.use_artifact(\"sample.csv:latest\").file()\n",
    "df = pd.read_csv(local_path)"
   ]
  },
  {
   "cell_type": "markdown",
   "id": "8197f8c6-a118-4e48-afad-f194996dc4ea",
   "metadata": {},
   "source": [
    "## Profiling dataset"
   ]
  },
  {
   "cell_type": "code",
   "execution_count": null,
   "id": "4f2afcc8",
   "metadata": {},
   "outputs": [],
   "source": [
    "profile = pandas_profiling.ProfileReport(df)\n",
    "profile.to_notebook_iframe()"
   ]
  },
  {
   "cell_type": "markdown",
   "id": "79818079-dbc3-43c0-8fee-63811894afaf",
   "metadata": {},
   "source": [
    "## Applying transformations\n",
    "After investigating the dataset, we see some areas for cleaning up the set:\n",
    "- removing prices outside [10, 350] range,\n",
    "- converting last_review data to datetime."
   ]
  },
  {
   "cell_type": "code",
   "execution_count": null,
   "id": "3c2457e2",
   "metadata": {},
   "outputs": [],
   "source": [
    "# Drop outliers\n",
    "min_price = 10\n",
    "max_price = 350\n",
    "idx = df['price'].between(min_price, max_price)\n",
    "df = df[idx].copy()"
   ]
  },
  {
   "cell_type": "code",
   "execution_count": null,
   "id": "4966bef0-185d-4748-a4e2-126f9b6f97ac",
   "metadata": {},
   "outputs": [],
   "source": [
    "# Convert last_review to datetime\n",
    "df['last_review'] = pd.to_datetime(df['last_review'])"
   ]
  },
  {
   "cell_type": "code",
   "execution_count": null,
   "id": "3633fad4-6226-4a2a-996e-be117a8ac750",
   "metadata": {},
   "outputs": [],
   "source": [
    "## Investigate the cleaned up set"
   ]
  },
  {
   "cell_type": "code",
   "execution_count": null,
   "id": "74a91e31",
   "metadata": {},
   "outputs": [],
   "source": [
    "profile = pandas_profiling.ProfileReport(df)\n",
    "profile.to_notebook_iframe()"
   ]
  },
  {
   "cell_type": "code",
   "execution_count": null,
   "id": "595a3632",
   "metadata": {},
   "outputs": [],
   "source": [
    "run.finish()"
   ]
  },
  {
   "cell_type": "code",
   "execution_count": null,
   "id": "7aa6fc27-bc31-414f-be3d-7d8a2023e37d",
   "metadata": {},
   "outputs": [],
   "source": []
  }
 ],
 "metadata": {
  "kernelspec": {
   "display_name": "Python 3 (ipykernel)",
   "language": "python",
   "name": "python3"
  },
  "language_info": {
   "codemirror_mode": {
    "name": "ipython",
    "version": 3
   },
   "file_extension": ".py",
   "mimetype": "text/x-python",
   "name": "python",
   "nbconvert_exporter": "python",
   "pygments_lexer": "ipython3",
   "version": "3.8.15"
  }
 },
 "nbformat": 4,
 "nbformat_minor": 5
}
